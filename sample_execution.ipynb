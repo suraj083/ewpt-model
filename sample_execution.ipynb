{
 "cells": [
  {
   "cell_type": "code",
   "execution_count": null,
   "metadata": {},
   "outputs": [],
   "source": []
  }
 ],
 "metadata": {
  "kernelspec": {
   "display_name": "ModGrav",
   "language": "python",
   "name": "python3"
  },
  "language_info": {
   "name": "python",
   "version": "3.10.9"
  },
  "orig_nbformat": 4,
  "vscode": {
   "interpreter": {
    "hash": "acb33ed6c5190d5e62912e2c870ae90660f798daee4a4d1e1d0a6f9c450e85f6"
   }
  }
 },
 "nbformat": 4,
 "nbformat_minor": 2
}

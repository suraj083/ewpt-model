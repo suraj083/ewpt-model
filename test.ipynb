{
 "cells": [
  {
   "cell_type": "code",
   "execution_count": null,
   "id": "fd330883-ad06-4f1b-bad1-c0e63c4345fd",
   "metadata": {},
   "outputs": [],
   "source": [
    "import os\n",
    "os.environ['TF_CPP_MIN_LOG_LEVEL'] = '3'"
   ]
  },
  {
   "cell_type": "code",
   "execution_count": null,
   "id": "43c1726c",
   "metadata": {},
   "outputs": [],
   "source": [
    "test_params = {'g1': 1, 'g2': 1, 'yt': 1, 'yb': 1, 'mHsq': 1, 'mSsq': 1, 'lmbd': 1, 'lmbd_SH': 1, 'lmbd_S': 1, 'N': 1, 'vevh': 1}"
   ]
  }
 ],
 "metadata": {
  "kernelspec": {
   "display_name": "ModGrav",
   "language": "python",
   "name": "python3"
  },
  "language_info": {
   "codemirror_mode": {
    "name": "ipython",
    "version": 3
   },
   "file_extension": ".py",
   "mimetype": "text/x-python",
   "name": "python",
   "nbconvert_exporter": "python",
   "pygments_lexer": "ipython3",
   "version": "3.10.9"
  },
  "vscode": {
   "interpreter": {
    "hash": "acb33ed6c5190d5e62912e2c870ae90660f798daee4a4d1e1d0a6f9c450e85f6"
   }
  }
 },
 "nbformat": 4,
 "nbformat_minor": 5
}

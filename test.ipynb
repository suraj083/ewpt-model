{
 "cells": [
  {
   "cell_type": "code",
   "execution_count": 1,
   "id": "fd330883-ad06-4f1b-bad1-c0e63c4345fd",
   "metadata": {},
   "outputs": [
    {
     "name": "stdout",
     "output_type": "stream",
     "text": [
      "\u001b[0m Elvet: If you use Elvet in research, please cite arXiv:2103.14575\u001b[0m\n"
     ]
    }
   ],
   "source": [
    "import os\n",
    "os.environ['TF_CPP_MIN_LOG_LEVEL'] = '3'"
   ]
  },
  {
   "cell_type": "code",
   "execution_count": null,
   "id": "43c1726c",
   "metadata": {},
   "outputs": [],
   "source": []
  }
 ],
 "metadata": {
  "kernelspec": {
   "display_name": "ModGrav",
   "language": "python",
   "name": "python3"
  },
  "language_info": {
   "codemirror_mode": {
    "name": "ipython",
    "version": 3
   },
   "file_extension": ".py",
   "mimetype": "text/x-python",
   "name": "python",
   "nbconvert_exporter": "python",
   "pygments_lexer": "ipython3",
   "version": "3.10.9"
  },
  "vscode": {
   "interpreter": {
    "hash": "acb33ed6c5190d5e62912e2c870ae90660f798daee4a4d1e1d0a6f9c450e85f6"
   }
  }
 },
 "nbformat": 4,
 "nbformat_minor": 5
}

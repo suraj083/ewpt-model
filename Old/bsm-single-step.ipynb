{
 "cells": [
  {
   "cell_type": "code",
   "execution_count": 1,
   "id": "f1712e04-8a2a-477f-978c-a5192b503c4d",
   "metadata": {
    "tags": []
   },
   "outputs": [
    {
     "name": "stdout",
     "output_type": "stream",
     "text": [
      "Metal device set to: Apple M1\n",
      "\u001b[0m Elvet: If you use Elvet in research, please cite arXix:2103.14575\u001b[0m\n"
     ]
    }
   ],
   "source": [
    "import numpy as np\n",
    "import os\n",
    "os.environ['TF_CPP_MIN_LOG_LEVEL'] = '3' \n",
    "\n",
    "import tensorflow as tf\n",
    "import elvet\n",
    "import matplotlib.pyplot as plt\n",
    "import pandas as pd"
   ]
  },
  {
   "cell_type": "code",
   "execution_count": 2,
   "id": "f130ee89-1e04-4670-84cb-a7f1d87616ca",
   "metadata": {},
   "outputs": [
    {
     "data": {
      "text/plain": [
       "'2.10.0'"
      ]
     },
     "execution_count": 2,
     "metadata": {},
     "output_type": "execute_result"
    }
   ],
   "source": [
    "tf.__version__"
   ]
  },
  {
   "cell_type": "code",
   "execution_count": 3,
   "id": "25a015cb-8222-4e44-b175-5802fcc9ee51",
   "metadata": {},
   "outputs": [
    {
     "name": "stdout",
     "output_type": "stream",
     "text": [
      "\u001b[0m Elvet: Setting optimizer parameter 'lr' to 0.001\u001b[0m\n",
      "\u001b[0m Elvet: Setting optimizer parameter 'lr' to 0.001\u001b[0m\n"
     ]
    }
   ],
   "source": [
    "#=========================================================\n",
    "#   Re-assembly of the NN models for Jb, Jf \n",
    "#=========================================================\n",
    "\n",
    "# using the same domain but different models for Jb and Jb\n",
    "\n",
    "domain0 = elvet.box((-50, 100, 3001)) \n",
    "\n",
    "model01 = elvet.nn(1, 25, 25, 25, 1)\n",
    "model02 = elvet.nn(1, 20, 20, 20, 1)\n",
    "\n",
    "# loading Jb specific information\n",
    "\n",
    "Jb_profile = pd.read_csv('Jb.csv', header=None, names=['Jb(x)'], index_col=0)\n",
    "Jb = np.array([Jb_profile['Jb(x)'][i] for i in range(3001)]).reshape(3001,1)\n",
    "\n",
    "fitter_Jb = elvet.fitter(domain0, Jb, model=model01, lr=0.001)\n",
    "fitter_Jb.load_model_weights(\"Jb.h5\")\n",
    "\n",
    "fitter_Jb.fit(epochs=100)\n",
    "\n",
    "# loading Jf specific information\n",
    "\n",
    "Jf_profile = pd.read_csv('Jf.csv', header=None, names=['Jf(x)'], index_col=0)\n",
    "Jf = np.array([Jf_profile['Jf(x)'][i] for i in range(3001)]).reshape(3001,1)\n",
    "\n",
    "fitter_Jf = elvet.fitter(domain0, Jf, model=model02, lr=0.001)\n",
    "fitter_Jf.load_model_weights(\"Jf.h5\")\n",
    "\n",
    "fitter_Jf.fit(epochs=100)\n",
    "\n",
    "# graphical verification of accurate fitting \n",
    "\n",
    "plt.plot(domain0, fitter_Jb.model(domain0))\n",
    "plt.plot(domain0, fitter_Jf.model(domain0))\n",
    "plt.grid(True)\n",
    "plt.savefig(\"Figures/fitted_Jb_Jf_verification.jpg\")\n",
    "plt.close()"
   ]
  },
  {
   "cell_type": "markdown",
   "id": "c26dc3ee-74f5-447e-8cf1-50948b3cd804",
   "metadata": {},
   "source": [
    "### Function definitions"
   ]
  },
  {
   "cell_type": "markdown",
   "id": "36822009-b2a7-44c9-b52b-acbe1d6f9d11",
   "metadata": {},
   "source": [
    "#### Thermal functions"
   ]
  },
  {
   "cell_type": "code",
   "execution_count": 4,
   "id": "660eb150-dce1-4461-b8d4-e913b2e3f386",
   "metadata": {},
   "outputs": [],
   "source": [
    "def JB(var):\n",
    "    return fitter_Jb.model(var)\n",
    "\n",
    "def JF(var):\n",
    "    return fitter_Jf.model(var)\n",
    "\n",
    "def dJB(var):\n",
    "    var_b = tf.cast(var, tf.float32)\n",
    "\n",
    "    with tf.GradientTape() as tape:\n",
    "        tape.watch(var_b) \n",
    "        y_Jb = fitter_Jb.model(var_b)\n",
    "    return tape.gradient(y_Jb, var_b)\n",
    "\n",
    "def dJF(var):\n",
    "    var_f = tf.cast(var, tf.float32)\n",
    "\n",
    "    with tf.GradientTape() as tape:\n",
    "        tape.watch(var_f) \n",
    "        y_Jf = fitter_Jf.model(var_f)\n",
    "    return tape.gradient(y_Jf, var_f)"
   ]
  },
  {
   "cell_type": "markdown",
   "id": "701152a5-c7bc-4394-a261-93545cdf5c53",
   "metadata": {
    "jp-MarkdownHeadingCollapsed": true,
    "tags": []
   },
   "source": [
    "#### h, T - dependent masses and their derivatives"
   ]
  },
  {
   "cell_type": "code",
   "execution_count": 5,
   "id": "0298215a-ae5d-467f-b6b5-b4dfe4ecd242",
   "metadata": {},
   "outputs": [],
   "source": [
    "\n",
    "def mWsq_t(h):\n",
    "    g2 = 0.6485\n",
    "    return 0.25 * g2**2 * h**2\n",
    "\n",
    "def mWsq_t_prime(h):\n",
    "    g2 = 0.6485\n",
    "    return 0.5 * g2**2 * h\n",
    "\n",
    "\n",
    "def mWsq_l(h,T):\n",
    "    g2 = 0.6485\n",
    "    return 0.25 * g2**2 * h**2 + (11/6) * g2**2 * T**2\n",
    "\n",
    "def mWsq_l_prime(h,T):\n",
    "    g2 = 0.6485\n",
    "    return 0.5 * g2**2 * h\n",
    "\n",
    "\n",
    "def mZsq_t(h):\n",
    "    (g1, g2) = (0.4632, 0.6485)\n",
    "    return 0.25 * (0.6 * g1**2 + g2**2) * h**2\n",
    "\n",
    "def mZsq_t_prime(h):\n",
    "    (g1, g2) = (0.4632, 0.6485)\n",
    "    return 0.5 * (0.6 * g1**2 + g2**2) * h\n",
    "\n",
    "\n",
    "def delta(h,T):\n",
    "    (g1, g2) = (0.4632, 0.6485)\n",
    "    return (1/60) * tf.math.sqrt(-2640 * T**2 * g1**2 * g2**2 * (11 * T**2 + 3 * h**2) + (22 * T**2 + 3 * h**2)**2 * (5 * g2**2 + 3 * g1**2)**2)\n",
    "\n",
    "def delta_prime(h,T):              \n",
    "    (g1, g2) = (0.4632, 0.6485)\n",
    "    return (1/60) * (-7920 * h * T**2 * g1**2 * g2**2 + 6 * h * (5 * g2**2 + 3 * g1**2)**2 * (22 * T**2 + 3 * h**2)) / (tf.math.sqrt(-2640 * T**2 * g1**2 * g2**2 * (11 * T**2 + 3 * h**2) + (22 * T**2 + 3 * h**2)**2 * (5 * g2**2 + 3 * g1**2)**2))\n",
    "\n",
    "\n",
    "def mZsq_l(h,T):\n",
    "    (g1, g2) = (0.4632, 0.6485)\n",
    "    return 0.5 * (0.25 * (0.6 * g1**2 + g2**2) * h**2 + (11/6) * g2**2 * T**2 + (11/10) * g1**2 * T**2 + delta(h,T))\n",
    "\n",
    "def mZsq_l_prime(h,T):\n",
    "    (g1, g2) = (0.4632, 0.6485)\n",
    "    return 0.5 * (0.5 * (0.6 * g1**2 + g2**2) * h + delta_prime(h,T))\n",
    "\n",
    "\n",
    "def mphsq_l(h,T):\n",
    "    (g1, g2) = (0.4632, 0.6485)\n",
    "    return 0.5 * (0.25 * (0.6 * g1**2 + g2**2) * h**2 + (11/6) * g2**2 * T**2 + (11/10) * g1**2 * T**2 - delta(h,T))\n",
    "\n",
    "def mphsq_l_prime(h,T):\n",
    "    (g1, g2) = (0.4632, 0.6485)\n",
    "    return 0.5 * (0.5 * (0.6 * g1**2 + g2**2) * h - delta_prime(h,T))\n",
    "\n",
    "\n",
    "def mGsq(h,T):\n",
    "    (mHsq, lmbd, g1, g2, yt, lmbd_SH, N) = (0.286270859792, -0.6888422590446, 0.4632, 0.6485, 0.92849, 10.90, 0.5)\n",
    "    return mHsq + 0.5 * lmbd * h**2 + ((3/80) * g1**2 + (3/16) * g2**2 + (1/4) * yt**2 + (N*lmbd_SH / 12)) * T**2\n",
    "\n",
    "def mGsq_prime(h,T):\n",
    "    (mHsq, lmbd, g1, g2, yt, lmbd_SH, N) = (0.286270859792, -0.6888422590446, 0.4632, 0.6485, 0.92849, 10.90, 0.5)\n",
    "    return lmbd * h\n",
    "\n",
    "\n",
    "def mhsq(h,T):\n",
    "    (mHsq, lmbd, g1, g2, yt, lmbd_SH, N) = (0.286270859792, -0.6888422590446, 0.4632, 0.6485, 0.92849, 10.90, 0.5)\n",
    "    return mHsq + 1.5 * lmbd * h**2 + ((3/80) * g1**2 + (3/16) * g2**2 + (1/4) * yt**2 + (N*lmbd_SH / 12)) * T**2\n",
    "\n",
    "def mhsq_prime(h,T):\n",
    "    (mHsq, lmbd, g1, g2, yt, lmbd_SH, N) = (0.286270859792, -0.6888422590446, 0.4632, 0.6485, 0.92849, 10.90, 0.5)\n",
    "    return 3 * lmbd * h\n",
    "\n",
    "\n",
    "def mtsq(h):\n",
    "    yt = 0.92849                 \n",
    "    return 0.5 * yt**2 * h**2 \n",
    "\n",
    "def mtsq_prime(h):\n",
    "    yt = 0.92849                 \n",
    "    return yt**2 * h\n",
    "\n",
    "def mbsq(h):\n",
    "    yb = 0.0167\n",
    "    return 0.5 * yb**2 * h**2 \n",
    "\n",
    "def mbsq_prime(h):\n",
    "    yb = 0.0167\n",
    "    return yb**2 * h \n",
    "\n",
    "\n",
    "def mSsq(h,T):\n",
    "    (muSsq, lmbd_SH, lmbd_S, N) = (4.4819542, 10.90, 1.0, 0.5)    \n",
    "    return muSsq + 0.5 * lmbd_SH * h**2 + ((lmbd_S / 12) * (N+1) + (lmbd_SH / 6)) * T**2\n",
    "\n",
    "def mSsq_prime(h,T):\n",
    "    (muSsq, lmbd_SH, lmbd_S, N) = (4.4819542, 10.90, 1.0, 0.5)    \n",
    "    return lmbd_SH * h\n",
    "\n"
   ]
  },
  {
   "cell_type": "markdown",
   "id": "ce34892f-74cc-4449-a519-42ee93672302",
   "metadata": {
    "tags": []
   },
   "source": [
    "#### The Higgs potential and its derivatives"
   ]
  },
  {
   "cell_type": "code",
   "execution_count": 6,
   "id": "4ded568f-6570-4816-8695-a9fc881800f2",
   "metadata": {},
   "outputs": [],
   "source": [
    "def Vh_oneloop(h,Temp):     \n",
    "    hc = tf.cast(h, tf.complex64)\n",
    "    T = Temp/80\n",
    "\n",
    "    (mHsq, lmbd, N, mu) = (0.286270859792, -0.6888422590446, 0.5, 2.1595)\n",
    "\n",
    "    Vh_oneloop_corrected = tf.math.real(0.5 * mHsq**2/lmbd +  0.5 * mHsq * hc**2 + 0.125 * lmbd * hc**4 + ( tf.math.xlogy(4*mWsq_t(hc)**2, mWsq_t(hc)/mu**2) - (10/3) * mWsq_t(hc)**2 + tf.math.xlogy(2*mWsq_l(hc,T)**2, mWsq_l(hc,T)/mu**2) - (5/3) * mWsq_l(hc,T)**2 +  tf.math.xlogy(2*mZsq_t(hc)**2, mZsq_t(hc)/mu**2) - (5/3) * mZsq_t(hc)**2 + tf.math.xlogy(mZsq_l(hc,T)**2, mZsq_l(hc,T)/mu**2) - (5/6) * mZsq_l(hc,T)**2 + tf.math.xlogy(mphsq_l(hc,T)**2, mphsq_l(hc,T)/mu**2) - (5/6) * mphsq_l(hc,T)**2 + tf.math.xlogy(3 * mGsq(hc,T)**2, mGsq(hc,T)/mu**2) - 4.5 * mGsq(hc,T)**2 + tf.math.xlogy(mhsq(hc,T)**2, mhsq(hc,T)/mu**2) - 1.5 * mhsq(hc,T)**2 + tf.math.xlogy(2*N * mSsq(hc,T)**2, mSsq(hc,T)/mu**2) - 3*N * mSsq(hc,T)**2 - tf.math.xlogy(12 * mtsq(hc)**2, mtsq(hc)/mu**2) + 18 * mtsq(hc)**2 - tf.math.xlogy(12 * mbsq(hc)**2, mbsq(hc)/mu**2) + 18 * mbsq(hc)**2 ) / (64 * np.math.pi**2))\n",
    "\n",
    "    return Vh_oneloop_corrected\n",
    "\n",
    "def Vh_zeroT_atvev():\n",
    "    \n",
    "    (mHsq, lmbd, N, mu, vevh) = (0.286270859792, -0.6888422590446, 0.5, 2.1595, 3.08204)\n",
    "    vevhc = tf.cast(vevh, tf.complex64)\n",
    "\n",
    "    Vh_zeroT_atvevh = tf.math.real(0.5 * mHsq**2/lmbd + 0.5 * mHsq * vevhc**2 + 0.125 * lmbd * vevhc**4 + ( tf.math.xlogy(6 * mWsq_t(vevhc)**2, mWsq_t(vevhc)/mu**2) - 5 * mWsq_t(vevhc)**2 + tf.math.xlogy(3 * mZsq_t(vevhc)**2, mZsq_t(vevhc)/mu**2) - 2.5 * mZsq_t(vevhc)**2 + tf.math.xlogy(3 * mGsq(vevhc,0)**2, mGsq(vevhc,0)/mu**2) - 4.5 * mGsq(vevhc,0)**2 + tf.math.xlogy(mhsq(vevhc,0)**2, mhsq(vevhc,0)/mu**2) - 1.5 * mhsq(vevhc,0)**2 + tf.math.xlogy(2*N * mSsq(vevhc,0)**2, mSsq(vevhc,0)/mu**2) - 3*N * mSsq(vevhc,0)**2 - tf.math.xlogy(12 * mtsq(vevhc)**2, mtsq(vevhc)/mu**2) + 18 * mtsq(vevhc)**2 - tf.math.xlogy(12 * mbsq(vevhc)**2, mbsq(vevhc)/mu**2) + 18 * mbsq(vevhc)**2 ) / (64 * np.math.pi**2) )\n",
    "\n",
    "    return Vh_zeroT_atvevh\n",
    "\n",
    "def Vh_finiteT(h, Temp):\n",
    "    hf = tf.cast(h, tf.float32)\n",
    "    T = Temp/80\n",
    "    N = 0.5\n",
    "\n",
    "    Vh_finiteT = (T**4) * ( 4*JB(mWsq_t(hf)/T**2) + 2*JB(mWsq_l(hf,T)/T**2) + 2*JB(mZsq_t(hf)/T**2) + JB(mZsq_l(hf,T)/T**2) + JB(mphsq_l(hf,T)/T**2) + 3*JB(mGsq(hf,T)/T**2) + JB(mhsq(hf,T)/T**2) + 2*N*JB(mSsq(hf,T)/T**2) - 12*JF(mtsq(hf)/T**2) - 12*JF(mbsq(hf)/T**2) - 156.33975 ) / (2*np.math.pi**2)\n",
    "\n",
    "    return Vh_finiteT\n",
    "\n",
    "def V_h(h, Temp):\n",
    "    VhT_potential = Vh_finiteT(h, Temp) + Vh_oneloop(h, Temp) - Vh_zeroT_atvev()\n",
    "\n",
    "    return VhT_potential\n",
    "\n",
    "def dVh_dh_oneloop(h, Temp):\n",
    "    hc = tf.cast(h, tf.complex64)\n",
    "    T = Temp/80\n",
    "\n",
    "    (mHsq, lmbd, N, mu) = (0.286270859792, -0.6888422590446, 0.5, 2.1595)\n",
    "\n",
    "    dVh_oneloop = tf.math.real( mHsq * hc + 0.5 * lmbd * hc**3 + ( tf.math.xlogy(8*mWsq_t(hc)*mWsq_t_prime(hc), mWsq_t(hc)/mu**2) - (8/3)*mWsq_t(hc)*mWsq_t_prime(hc) + tf.math.xlogy(4*mWsq_l(hc,T)*mWsq_l_prime(hc,T), mWsq_l(hc,T)/mu**2) - (4/3)*mWsq_l(hc,T)*mWsq_l_prime(hc,T) +  tf.math.xlogy(4*mZsq_t(hc)*mZsq_t_prime(hc), mZsq_t(hc)/mu**2) - (4/3)*mZsq_t(hc)*mZsq_t_prime(hc) + tf.math.xlogy(2*mZsq_l(hc,T)*mZsq_l_prime(hc,T), mZsq_l(hc,T)/mu**2) - (2/3)*mZsq_l(hc,T)*mZsq_l_prime(hc,T) + tf.math.xlogy(2*mphsq_l(hc,T)*mphsq_l_prime(hc,T), mphsq_l(hc,T)/mu**2) - (2/3)*mphsq_l(hc,T)*mphsq_l_prime(hc,T) + tf.math.xlogy(6*mGsq(hc,T)*mGsq_prime(hc,T), mGsq(hc,T)/mu**2) - 6*mGsq(hc,T)*mGsq_prime(hc,T) + tf.math.xlogy(2*mhsq(hc,T)*mhsq_prime(hc,T), mhsq(hc,T)/mu**2) - 2*mhsq(hc,T)*mhsq_prime(hc,T) + tf.math.xlogy(4*N*mSsq(hc,T)*mSsq_prime(hc,T), mSsq(hc,T)/mu**2) - 4*N*mSsq(hc,T)*mSsq_prime(hc,T) - tf.math.xlogy(24*mtsq(hc)*mtsq_prime(hc), mtsq(hc)/mu**2) + 24*mtsq(hc)*mtsq_prime(hc) - tf.math.xlogy(24*mbsq(hc)*mbsq_prime(hc), mbsq(hc)/mu**2) + 24*mbsq(hc)*mbsq_prime(hc) ) / (64 * np.math.pi**2) )\n",
    "    \n",
    "    return dVh_oneloop\n",
    "\n",
    "\n",
    "def dVh_dh_finiteT(h, Temp):\n",
    "    ha = tf.cast(h, tf.float32)\n",
    "\n",
    "    with tf.GradientTape(persistent=True) as tape:\n",
    "        tape.watch(ha) \n",
    "        VhT = Vh_finiteT(ha, Temp)\n",
    "    return tape.gradient(VhT, ha)\n",
    "\n",
    "def dVh_dh(h, Temp):          \n",
    "    return dVh_dh_finiteT(h,Temp) + dVh_dh_oneloop(h, Temp)\n",
    "\n",
    "\n",
    "def d2Vh_dh2(h, Temp):         \n",
    "    ha = tf.cast(h, tf.float32)\n",
    "\n",
    "    with tf.GradientTape(persistent=True) as tape:\n",
    "        tape.watch(ha) \n",
    "        dVhT = dVh_dh(ha, Temp)\n",
    "    return tape.gradient(dVhT, ha)"
   ]
  },
  {
   "cell_type": "code",
   "execution_count": 5,
   "id": "0d7064fc-a6bc-4a90-a61a-a36181051a96",
   "metadata": {},
   "outputs": [],
   "source": [
    "hy = elvet.box((0.0, 3.2, 3200)) \n",
    "h0 = tf.zeros((len(hy), 1), dtype=tf.float32)"
   ]
  },
  {
   "cell_type": "code",
   "execution_count": 8,
   "id": "b581ee1d-10b9-4817-ba50-68eeab11dbc8",
   "metadata": {},
   "outputs": [
    {
     "data": {
      "image/png": "[encoded data removed]",
      "text/plain": [
       "<Figure size 640x480 with 1 Axes>"
      ]
     },
     "metadata": {},
     "output_type": "display_data"
    }
   ],
   "source": [
    "plt.plot(hy, d2Vh_dh2(hy, 90), label=\"$d^2 V / dh^2$\")\n",
    "plt.plot(hy, mGsq(hy, 90/80), label=\"$m_G^2$\")\n",
    "plt.plot(hy, mhsq(hy, 90/80), label=\"$m_h^2$\")\n",
    "plt.legend(loc=6)\n",
    "plt.grid(True)"
   ]
  },
  {
   "cell_type": "markdown",
   "id": "6eb98ff6-27d6-4fc5-b112-ffc7dcef0d20",
   "metadata": {},
   "source": [
    "### Solving the differential equation using Elvet"
   ]
  },
  {
   "cell_type": "code",
   "execution_count": 8,
   "id": "63a00f90-5e5d-4e79-88aa-96577b5ca981",
   "metadata": {},
   "outputs": [],
   "source": [
    "\n",
    "full_domain1 = elvet.box((0.01, 10, 1000))\n",
    "\n",
    "# boundary condition for only the first run, with a guessed value of h(0)\n",
    "\n",
    "bcs1 = (\n",
    "    elvet.BC(0.01, lambda r, h, dh, d2h: h - 2.7),\n",
    "    elvet.BC(0.01, lambda r, h, dh, d2h: dh),\n",
    "    elvet.BC(10, lambda r, h, dh, d2h: h),\n",
    "    elvet.BC(10, lambda r, h, dh, d2h: dh)\n",
    ")\n",
    "\n",
    "# boundary condition for subsequent runs, with a guessed value of h(0)\n",
    "\n",
    "bcs2 = (\n",
    "    elvet.BC(0.01, lambda r, h, dh, d2h: dh),\n",
    "    elvet.BC(10, lambda r, h, dh, d2h: h),\n",
    "    elvet.BC(10, lambda r, h, dh, d2h: dh)\n",
    ")\n",
    "\n",
    "\n",
    "def eqnT55(r, h, dh, d2h):\n",
    "    \n",
    "    return d2h + (2/r)*dh  - dVh_dh(h,55)\n",
    "\n"
   ]
  },
  {
   "cell_type": "code",
   "execution_count": 9,
   "id": "27991287-5458-4256-9b22-2b3949a15a16",
   "metadata": {},
   "outputs": [
    {
     "name": "stdout",
     "output_type": "stream",
     "text": [
      "\u001b[0m Elvet: epoch = 1, loss = 4.01e+00, lr = 1.00e-03, elapsed time = 00:00:18\u001b[0m\n",
      "\u001b[35m Elvet - WARNING: Training stopped by the user.\u001b[0m\n",
      "\u001b[0m Elvet: epoch = 1675, loss = 3.20e-03, lr = 9.00e-04, elapsed time = 00:04:06\u001b[0m\n"
     ]
    },
    {
     "data": {
      "image/png": "[encoded data removed]",
      "text/plain": [
       "<Figure size 640x480 with 1 Axes>"
      ]
     },
     "metadata": {},
     "output_type": "display_data"
    },
    {
     "data": {
      "image/png": "[encoded data removed]",
      "text/plain": [
       "<Figure size 640x480 with 1 Axes>"
      ]
     },
     "metadata": {},
     "output_type": "display_data"
    }
   ],
   "source": [
    "result_1 = elvet.solver(eqnT55, bcs1, domain=full_domain1, model=elvet.nn(1, 10, 10, 10, 1), epochs=10000, verbose=True, metrics=elvet.utils.metrics.WatchLR(True), callbacks=(elvet.utils.LRschedulers.ReduceLROnPlateau(check_every=1000, min_lr=1e-8, scale=0.9, min_improvement_rate=0.01, store_lr=True), elvet.utils.callbacks.EarlyStopping(min_loss=1e-6), elvet.utils.callbacks.TerminateIf(NaN=True, Inf=True, strictly_increasing=False) ))\n",
    "\n",
    "import elvet.plotting\n",
    "\n",
    "elvet.plotting.plot_prediction(result_1)\n",
    "elvet.plotting.plot_losses(result_1)"
   ]
  },
  {
   "cell_type": "markdown",
   "id": "d58cb020-6a67-47c2-855e-763bc00d7a91",
   "metadata": {
    "tags": []
   },
   "source": [
    "### If the nan problem persists - consider converting the entire potential or the derivative into an NN fitted model"
   ]
  },
  {
   "cell_type": "markdown",
   "id": "2e3bde27-d530-4bb5-94a7-bc8e8fbacd27",
   "metadata": {
    "tags": []
   },
   "source": [
    "### The same can be done for the case with the dilaton as well, in the fitter we can give \n",
    "\n",
    "$\\texttt{domain=elvet.box((0,4,400),(0,4,400))}$\n",
    "\n",
    "### Of course this will have to be done for individual temperatures or for generalization we can define a T-dependent function and do it for a few different temperatures and save their weights."
   ]
  },
  {
   "cell_type": "code",
   "execution_count": 52,
   "id": "15d8cd28-744c-485c-92c7-a6b0518ab29c",
   "metadata": {},
   "outputs": [],
   "source": [
    "\n",
    "#========================\n",
    "#  Computing the action\n",
    "#========================\n",
    "\n",
    "def compute_action(r, h, dh, T):\n",
    "    kinetic = 0.5 * dh**2\n",
    "    potential = V_h(h, T) -  V_h(tf.zeros((len(h), 1), dtype=tf.float32), T)\n",
    "\n",
    "    factor = 4*np.math.pi*(np.array(r)**2) \n",
    "\n",
    "    integrand  = np.multiply(factor, (kinetic + potential))\n",
    "\n",
    "    return np.trapz(integrand, r)/(T/80)\n"
   ]
  },
  {
   "cell_type": "code",
   "execution_count": 30,
   "id": "c2dcf944-10ca-4993-9651-7097adaa137e",
   "metadata": {},
   "outputs": [],
   "source": [
    "r = np.linspace(0.01,100,10000)\n",
    "ha = 3.0/(1+np.exp(r-7))\n",
    "dha = np.gradient(ha)/np.gradient(r)"
   ]
  },
  {
   "cell_type": "code",
   "execution_count": 50,
   "id": "7ff50a81-9740-44fa-9728-1967a5511e19",
   "metadata": {},
   "outputs": [
    {
     "data": {
      "text/plain": [
       "<tf.Tensor: shape=(10000, 1), dtype=float32, numpy=\n",
       "array([[2.9972394],\n",
       "       [2.9972117],\n",
       "       [2.9971838],\n",
       "       ...,\n",
       "       [0.       ],\n",
       "       [0.       ],\n",
       "       [0.       ]], dtype=float32)>"
      ]
     },
     "execution_count": 50,
     "metadata": {},
     "output_type": "execute_result"
    }
   ],
   "source": [
    "r2 = elvet.box((0.01,100,10000))\n",
    "ha = tf.cast(3.0/(1+tf.math.exp(r-7)), tf.float32)\n",
    "hb = tf.reshape(ha, r2.shape)\n",
    "hb"
   ]
  },
  {
   "cell_type": "code",
   "execution_count": 51,
   "id": "36413cc6-b7ff-4243-b586-51e4d2f4df00",
   "metadata": {},
   "outputs": [
    {
     "data": {
      "text/plain": [
       "[<matplotlib.lines.Line2D at 0x2897948b0>]"
      ]
     },
     "execution_count": 51,
     "metadata": {},
     "output_type": "execute_result"
    },
    {
     "data": {
      "image/png": "[encoded data removed]",
      "text/plain": [
       "<Figure size 640x480 with 1 Axes>"
      ]
     },
     "metadata": {},
     "output_type": "display_data"
    }
   ],
   "source": [
    "plt.plot(r,ha)\n",
    "plt.plot(r2,hb, linestyle=\"dotted\")"
   ]
  },
  {
   "cell_type": "code",
   "execution_count": 47,
   "id": "f5be9d98-f68b-4ce3-a127-82352f492fad",
   "metadata": {},
   "outputs": [],
   "source": []
  },
  {
   "cell_type": "code",
   "execution_count": 48,
   "id": "f5f3afad-150e-4caa-a780-d2bc4e6c9eaf",
   "metadata": {},
   "outputs": [
    {
     "data": {
      "text/plain": [
       "<tf.Tensor: shape=(10000, 1), dtype=float32, numpy=\n",
       "array([[2.9972394],\n",
       "       [2.9972117],\n",
       "       [2.9971838],\n",
       "       ...,\n",
       "       [0.       ],\n",
       "       [0.       ],\n",
       "       [0.       ]], dtype=float32)>"
      ]
     },
     "execution_count": 48,
     "metadata": {},
     "output_type": "execute_result"
    }
   ],
   "source": [
    "hb"
   ]
  },
  {
   "cell_type": "code",
   "execution_count": null,
   "id": "e03a228c-e4cc-4a2d-ba15-dfb18e21f8ca",
   "metadata": {},
   "outputs": [],
   "source": []
  }
 ],
 "metadata": {
  "kernelspec": {
   "display_name": "Python 3 (ipykernel)",
   "language": "python",
   "name": "python3"
  },
  "language_info": {
   "codemirror_mode": {
    "name": "ipython",
    "version": 3
   },
   "file_extension": ".py",
   "mimetype": "text/x-python",
   "name": "python",
   "nbconvert_exporter": "python",
   "pygments_lexer": "ipython3",
   "version": "3.9.13"
  },
  "vscode": {
   "interpreter": {
    "hash": "acb33ed6c5190d5e62912e2c870ae90660f798daee4a4d1e1d0a6f9c450e85f6"
   }
  }
 },
 "nbformat": 4,
 "nbformat_minor": 5
}
